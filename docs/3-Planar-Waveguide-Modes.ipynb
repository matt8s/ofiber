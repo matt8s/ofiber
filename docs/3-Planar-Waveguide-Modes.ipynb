{
 "cells": [
  {
   "cell_type": "markdown",
   "metadata": {
    "toc": true
   },
   "source": [
    "# Symmetric Planar Waveguides\n",
    "\n",
    "**Scott Prahl**\n",
    "\n",
    "**Jan 2020**\n",
    "\n",
    "Planar waveguides are a strange abstraction.  These are waveguides that are sandwiches with a specified thickness but are infinite in extent in the other directions.  Studying planar waveguides before cylindrical waveguides is done because the math is simpler (solutions are trignometric functions instead of Bessel functions) and therefore it is a bit less likely that one will get lost in the math."
   ]
  },
  {
   "cell_type": "code",
   "execution_count": 1,
   "metadata": {},
   "outputs": [],
   "source": [
    "import sys\n",
    "import numpy as np\n",
    "import matplotlib.pyplot as plt\n",
    "\n",
    "try:\n",
    "    import ofiber\n",
    "except:\n",
    "    print(\"***** You need to install the ofiber module!\")\n",
    "    print(\"***** Copy the line below into a new cell, run that cell, then re-start Jupyter.\")\n",
    "    print()\n",
    "    print(\"!{sys.executable} -m pip install ofiber\")"
   ]
  },
  {
   "cell_type": "markdown",
   "metadata": {},
   "source": [
    "## Modes in planar waveguides\n",
    "\n",
    "### V=3.15"
   ]
  },
  {
   "cell_type": "code",
   "execution_count": 2,
   "metadata": {},
   "outputs": [
    {
     "data": {
      "image/png": "[encoded data removed]",
      "text/plain": [
       "<Figure size 576x576 with 1 Axes>"
      ]
     },
     "metadata": {
      "needs_background": "light"
     },
     "output_type": "display_data"
    },
    {
     "ename": "NameError",
     "evalue": "name 'd' is not defined",
     "output_type": "error",
     "traceback": [
      "\u001b[0;31m---------------------------------------------------------------------------\u001b[0m",
      "\u001b[0;31mNameError\u001b[0m                                 Traceback (most recent call last)",
      "\u001b[0;32m<ipython-input-2-e724a238c924>\u001b[0m in \u001b[0;36m<module>\u001b[0;34m\u001b[0m\n\u001b[1;32m      9\u001b[0m \u001b[0maplt\u001b[0m\u001b[0;34m.\u001b[0m\u001b[0mshow\u001b[0m\u001b[0;34m(\u001b[0m\u001b[0;34m)\u001b[0m\u001b[0;34m\u001b[0m\u001b[0;34m\u001b[0m\u001b[0m\n\u001b[1;32m     10\u001b[0m \u001b[0;34m\u001b[0m\u001b[0m\n\u001b[0;32m---> 11\u001b[0;31m \u001b[0mprint\u001b[0m\u001b[0;34m(\u001b[0m\u001b[0;34m'cutoff wavelength = %.0f nm'\u001b[0m\u001b[0;34m%\u001b[0m\u001b[0;34m(\u001b[0m\u001b[0;36m2\u001b[0m\u001b[0;34m*\u001b[0m\u001b[0md\u001b[0m\u001b[0;34m*\u001b[0m\u001b[0mNA\u001b[0m\u001b[0;34m*\u001b[0m\u001b[0;36m1e9\u001b[0m\u001b[0;34m)\u001b[0m\u001b[0;34m)\u001b[0m\u001b[0;34m\u001b[0m\u001b[0;34m\u001b[0m\u001b[0m\n\u001b[0m",
      "\u001b[0;31mNameError\u001b[0m: name 'd' is not defined"
     ]
    }
   ],
   "source": [
    "V=3.15\n",
    "xx = ofiber.TE_crossings(V)\n",
    "aplt = ofiber.TE_mode_plot(V)\n",
    "yy = np.sqrt((V / 2)**2 - xx[0::2]**2)\n",
    "aplt.scatter(xx[0::2],yy,s=50)\n",
    "yy = np.sqrt((V / 2)**2 - xx[1::2]**2)\n",
    "aplt.scatter(xx[1::2],yy,s=50)\n",
    "\n",
    "aplt.show()\n",
    "\n",
    "print('cutoff wavelength = %.0f nm'%(2*d*NA*1e9))"
   ]
  },
  {
   "cell_type": "markdown",
   "metadata": {},
   "source": [
    "### V=4.77"
   ]
  },
  {
   "cell_type": "code",
   "execution_count": null,
   "metadata": {
    "scrolled": false
   },
   "outputs": [],
   "source": [
    "n1=1.503\n",
    "n2=1.5\n",
    "lambda0 = 0.5e-6\n",
    "k=2*np.pi/lambda0\n",
    "NA = np.sqrt(n1**2-n2**2)\n",
    "d = 4e-6\n",
    "\n",
    "V = k * d * NA\n",
    "xx = ofiber.TE_crossings(V)\n",
    "\n",
    "b = 1-(2*xx/V)**2\n",
    "beta = np.sqrt((n1**2-n2**2)*b+n2**2)\n",
    "theta = np.arccos(beta/n1)*180/np.pi\n",
    "\n",
    "aplt = ofiber.TE_mode_plot(V)\n",
    "yy = np.sqrt((V / 2)**2 - xx[0::2]**2)\n",
    "aplt.scatter(xx[0::2],yy,s=50)\n",
    "yy = np.sqrt((V / 2)**2 - xx[1::2]**2)\n",
    "aplt.scatter(xx[1::2],yy,s=50)\n",
    "aplt.show()\n",
    "\n",
    "print(xx)\n",
    "print('b       =',b)\n",
    "print('beta hat=',beta)\n",
    "print('theta   =',theta,' degrees')\n"
   ]
  },
  {
   "cell_type": "markdown",
   "metadata": {},
   "source": [
    "### V=5.5"
   ]
  },
  {
   "cell_type": "code",
   "execution_count": null,
   "metadata": {
    "scrolled": false
   },
   "outputs": [],
   "source": [
    "V=5.5\n",
    "xx = ofiber.TE_crossings(V)\n",
    "aplt = ofiber.TE_mode_plot(V)\n",
    "yy = np.sqrt((V / 2)**2 - xx[0::2]**2)\n",
    "aplt.scatter(xx[0::2],yy,s=50)\n",
    "yy = np.sqrt((V / 2)**2 - xx[1::2]**2)\n",
    "aplt.scatter(xx[1::2],yy,s=50)\n",
    "\n",
    "aplt.show()\n",
    "\n",
    "print('cutoff wavelength = %.0f nm'%(2*d*NA*1e9))"
   ]
  },
  {
   "cell_type": "markdown",
   "metadata": {},
   "source": [
    "### V=16"
   ]
  },
  {
   "cell_type": "code",
   "execution_count": null,
   "metadata": {
    "scrolled": false
   },
   "outputs": [],
   "source": [
    "V=16\n",
    "n1=1.5\n",
    "n2=1.49\n",
    "xx = ofiber.TM_crossings(V,n1,n2)\n",
    "\n",
    "aplt = ofiber.TM_mode_plot(V,n1,n2)\n",
    "yy = np.sqrt((V / 2)**2 - xx[0::2]**2)\n",
    "aplt.scatter(xx[0::2],yy,s=50)\n",
    "yy = np.sqrt((V / 2)**2 - xx[1::2]**2)\n",
    "aplt.scatter(xx[1::2],yy,s=50)\n",
    "\n",
    "aplt.show()"
   ]
  },
  {
   "cell_type": "markdown",
   "metadata": {},
   "source": [
    "## Internal field inside waveguide"
   ]
  },
  {
   "cell_type": "code",
   "execution_count": null,
   "metadata": {},
   "outputs": [],
   "source": [
    "V= 15\n",
    "d = 1\n",
    "x = np.linspace(-1,1,100)\n",
    "\n",
    "#m=1\n",
    "#plt.plot(x,TE_field(V,d,x,m)**2)\n",
    "#plt.annotate('m=%d'%m,xy=(0.25,0.7))\n",
    "\n",
    "m=0\n",
    "plt.plot(x,ofiber.TE_field(V,d,x,m)**2)\n",
    "plt.annotate('m=%d'%m,xy=(0.25,-0.7))\n",
    "\n",
    "m=2\n",
    "plt.plot(x,ofiber.TE_field(V,d,x,m)**2)\n",
    "plt.annotate('m=%d'%m,xy=(0.25,-0.7))\n",
    "\n",
    "plt.plot(x,np.exp(-x**2/0.01),':b')\n",
    "plt.plot([-1,1],[0,0],'k')\n",
    "\n",
    "plt.plot([-0.5,-0.5],[-1,1],':k')\n",
    "plt.plot([0.5,0.5],[-1,1],':k')\n",
    "plt.annotate('planar bottom ',xy=(-0.5,-1),ha='right')\n",
    "plt.annotate(' planar top',xy=(0.5,-1),ha='left')\n",
    "\n",
    "plt.xlabel('Position (x/d)')\n",
    "plt.ylabel('$|E_y(x)|^2$ [Normalized]')\n",
    "plt.title('Modal Fields in symmetric planar waveguide V=%.2f'%V)\n",
    "plt.show()"
   ]
  },
  {
   "cell_type": "markdown",
   "metadata": {},
   "source": [
    "## TE propagation constants for first five modes"
   ]
  },
  {
   "cell_type": "code",
   "execution_count": null,
   "metadata": {},
   "outputs": [],
   "source": [
    "V = np.linspace(0.1,25,50)\n",
    "for mode in range(5):\n",
    "    b = ofiber.TE_propagation_constant(V,mode)\n",
    "    plt.plot(V,b)\n",
    "    plt.text(25.5,b[-1],\"mode=%d\"%mode,va='center')\n",
    "    \n",
    "plt.xlabel(\"V\")\n",
    "plt.ylabel('b')\n",
    "plt.title('Normalized TE Propagation Constants for Planar Waveguide')\n",
    "plt.xlim(0,30)\n",
    "plt.show()"
   ]
  },
  {
   "cell_type": "markdown",
   "metadata": {},
   "source": [
    "## TE & TM propagation constants for first five modes"
   ]
  },
  {
   "cell_type": "code",
   "execution_count": null,
   "metadata": {},
   "outputs": [],
   "source": [
    "n1=1.5\n",
    "n2=1.0\n",
    "V = np.linspace(0.1,30,50)\n",
    "for mode in range(7):\n",
    "    b = ofiber.TM_propagation_constant(V,n1,n2,mode)\n",
    "    plt.annotate(' mode=%d'%mode,xy=(30,b[-1]))\n",
    "    plt.plot(V,b,':b')\n",
    "    b = ofiber.TE_propagation_constant(V,mode)\n",
    "    plt.plot(V,b,'r')\n",
    "    \n",
    "plt.xlabel(\"V\")\n",
    "plt.ylabel('b')\n",
    "plt.title('Normalized Propagation Constant for Planar Waveguide')\n",
    "plt.xlim(0,35)\n",
    "plt.show()"
   ]
  },
  {
   "cell_type": "code",
   "execution_count": null,
   "metadata": {},
   "outputs": [],
   "source": []
  }
 ],
 "metadata": {
  "kernelspec": {
   "display_name": "Python 3",
   "language": "python",
   "name": "python3"
  },
  "language_info": {
   "codemirror_mode": {
    "name": "ipython",
    "version": 3
   },
   "file_extension": ".py",
   "mimetype": "text/x-python",
   "name": "python",
   "nbconvert_exporter": "python",
   "pygments_lexer": "ipython3",
   "version": "3.7.6"
  },
  "toc": {
   "nav_menu": {},
   "number_sections": true,
   "sideBar": false,
   "skip_h1_title": false,
   "toc_cell": true,
   "toc_position": {},
   "toc_section_display": "block",
   "toc_window_display": false
  }
 },
 "nbformat": 4,
 "nbformat_minor": 1
}
